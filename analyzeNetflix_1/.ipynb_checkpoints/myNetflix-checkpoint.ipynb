{
 "cells": [
  {
   "cell_type": "markdown",
   "id": "76e693d1-44b3-4125-8ce2-f4571130d92f",
   "metadata": {},
   "source": [
    "### Analyze my Netflix data - Part 1\n",
    "\n",
    "***@Bishal Biswas***\n",
    "***| Sept 2021***\n",
    "\n",
    "> The dataset includes netflix view data of our group. I with my four friends share netflix family account. It is a fun idea to analyze some of the data from that. If anyone is wondering I have their consent. And even if I do not have it, what are freinds for? lol. This a experimental project as I am learning data visualization this semster. I am applying that knowledge here as I go.   \n",
    "\n",
    "- This notebook analyze the show time of some netflix series or movies.\n",
    "- Comparison between group for most watch times."
   ]
  },
  {
   "cell_type": "markdown",
   "id": "dd1aa1ec-aca3-4e04-b973-b0035eaab1a5",
   "metadata": {},
   "source": [
    "> Importing pandas "
   ]
  },
  {
   "cell_type": "code",
   "execution_count": 1,
   "id": "cda272dd-1d32-4ee1-aa9a-d4cb6fd2b390",
   "metadata": {},
   "outputs": [],
   "source": [
    "import pandas as pd"
   ]
  },
  {
   "cell_type": "markdown",
   "id": "943557f1-0e70-456a-883c-9e8225982035",
   "metadata": {},
   "source": [
    "> Loading our data"
   ]
  },
  {
   "cell_type": "code",
   "execution_count": 2,
   "id": "2bf5341a-b3c3-4897-838a-1e4c31543539",
   "metadata": {},
   "outputs": [],
   "source": [
    "df = pd.read_csv('ViewingActivity.csv')"
   ]
  },
  {
   "cell_type": "markdown",
   "id": "d952eeee-9956-4950-b509-07db94d26a84",
   "metadata": {},
   "source": [
    "> Lets see how big our dtaframe is"
   ]
  },
  {
   "cell_type": "code",
   "execution_count": 3,
   "id": "70701716-9b10-48a4-944d-a27cb6489237",
   "metadata": {},
   "outputs": [
    {
     "data": {
      "text/plain": [
       "(20209, 10)"
      ]
     },
     "execution_count": 3,
     "metadata": {},
     "output_type": "execute_result"
    }
   ],
   "source": [
    "df.shape"
   ]
  },
  {
   "cell_type": "markdown",
   "id": "1d2dd23a-150d-4c16-a2a5-8453169dbed0",
   "metadata": {},
   "source": [
    "Next lets look at how it looks "
   ]
  },
  {
   "cell_type": "code",
   "execution_count": 4,
   "id": "435efe9f-8700-4719-b481-44fe7be1892c",
   "metadata": {},
   "outputs": [
    {
     "data": {
      "text/html": [
       "<div>\n",
       "<style scoped>\n",
       "    .dataframe tbody tr th:only-of-type {\n",
       "        vertical-align: middle;\n",
       "    }\n",
       "\n",
       "    .dataframe tbody tr th {\n",
       "        vertical-align: top;\n",
       "    }\n",
       "\n",
       "    .dataframe thead th {\n",
       "        text-align: right;\n",
       "    }\n",
       "</style>\n",
       "<table border=\"1\" class=\"dataframe\">\n",
       "  <thead>\n",
       "    <tr style=\"text-align: right;\">\n",
       "      <th></th>\n",
       "      <th>Profile Name</th>\n",
       "      <th>Start Time</th>\n",
       "      <th>Duration</th>\n",
       "      <th>Attributes</th>\n",
       "      <th>Title</th>\n",
       "      <th>Supplemental Video Type</th>\n",
       "      <th>Device Type</th>\n",
       "      <th>Bookmark</th>\n",
       "      <th>Latest Bookmark</th>\n",
       "      <th>Country</th>\n",
       "    </tr>\n",
       "  </thead>\n",
       "  <tbody>\n",
       "    <tr>\n",
       "      <th>0</th>\n",
       "      <td>Bishu</td>\n",
       "      <td>2021-09-09 04:06:02</td>\n",
       "      <td>00:39:59</td>\n",
       "      <td>NaN</td>\n",
       "      <td>Turning Point: 9/11 and the War on Terror: Sea...</td>\n",
       "      <td>NaN</td>\n",
       "      <td>Roku Longview HDR10 Smart TV</td>\n",
       "      <td>00:40:05</td>\n",
       "      <td>00:40:05</td>\n",
       "      <td>CA (Canada)</td>\n",
       "    </tr>\n",
       "  </tbody>\n",
       "</table>\n",
       "</div>"
      ],
      "text/plain": [
       "  Profile Name           Start Time  Duration Attributes  \\\n",
       "0        Bishu  2021-09-09 04:06:02  00:39:59        NaN   \n",
       "\n",
       "                                               Title Supplemental Video Type  \\\n",
       "0  Turning Point: 9/11 and the War on Terror: Sea...                     NaN   \n",
       "\n",
       "                    Device Type  Bookmark Latest Bookmark      Country  \n",
       "0  Roku Longview HDR10 Smart TV  00:40:05        00:40:05  CA (Canada)  "
      ]
     },
     "execution_count": 4,
     "metadata": {},
     "output_type": "execute_result"
    }
   ],
   "source": [
    "df.head(1)"
   ]
  },
  {
   "cell_type": "markdown",
   "id": "696ee5fd-061f-4c57-a68f-7451075bf15d",
   "metadata": {},
   "source": [
    "> lets make the dataframe short for the first visualization. ***total time of a particular show***"
   ]
  },
  {
   "cell_type": "code",
   "execution_count": 5,
   "id": "95bb67c3-8d13-4ac2-9742-a56a4f96052a",
   "metadata": {},
   "outputs": [],
   "source": [
    "df1 = df.drop(['Profile Name','Attributes', 'Supplemental Video Type', 'Device Type', 'Bookmark', 'Latest Bookmark', 'Country'], axis=1) "
   ]
  },
  {
   "cell_type": "markdown",
   "id": "d54bdf96-caa4-49c4-872e-0b6ec11a7624",
   "metadata": {},
   "source": [
    "Lets see if that is working"
   ]
  },
  {
   "cell_type": "code",
   "execution_count": 6,
   "id": "c8651829-2be1-42b2-9ff7-c20a67e29b90",
   "metadata": {},
   "outputs": [
    {
     "data": {
      "text/html": [
       "<div>\n",
       "<style scoped>\n",
       "    .dataframe tbody tr th:only-of-type {\n",
       "        vertical-align: middle;\n",
       "    }\n",
       "\n",
       "    .dataframe tbody tr th {\n",
       "        vertical-align: top;\n",
       "    }\n",
       "\n",
       "    .dataframe thead th {\n",
       "        text-align: right;\n",
       "    }\n",
       "</style>\n",
       "<table border=\"1\" class=\"dataframe\">\n",
       "  <thead>\n",
       "    <tr style=\"text-align: right;\">\n",
       "      <th></th>\n",
       "      <th>Start Time</th>\n",
       "      <th>Duration</th>\n",
       "      <th>Title</th>\n",
       "    </tr>\n",
       "  </thead>\n",
       "  <tbody>\n",
       "    <tr>\n",
       "      <th>0</th>\n",
       "      <td>2021-09-09 04:06:02</td>\n",
       "      <td>00:39:59</td>\n",
       "      <td>Turning Point: 9/11 and the War on Terror: Sea...</td>\n",
       "    </tr>\n",
       "  </tbody>\n",
       "</table>\n",
       "</div>"
      ],
      "text/plain": [
       "            Start Time  Duration  \\\n",
       "0  2021-09-09 04:06:02  00:39:59   \n",
       "\n",
       "                                               Title  \n",
       "0  Turning Point: 9/11 and the War on Terror: Sea...  "
      ]
     },
     "execution_count": 6,
     "metadata": {},
     "output_type": "execute_result"
    }
   ],
   "source": [
    "df1.head(1)"
   ]
  },
  {
   "cell_type": "markdown",
   "id": "e8236db4-1d9c-45be-995c-519d9ffcdf30",
   "metadata": {},
   "source": [
    "Perfect. Now we have to see the types of our data. "
   ]
  },
  {
   "cell_type": "code",
   "execution_count": 7,
   "id": "facbf74a-f245-44e9-ba3f-715805d1fdb4",
   "metadata": {},
   "outputs": [
    {
     "data": {
      "text/plain": [
       "Start Time    object\n",
       "Duration      object\n",
       "Title         object\n",
       "dtype: object"
      ]
     },
     "execution_count": 7,
     "metadata": {},
     "output_type": "execute_result"
    }
   ],
   "source": [
    "df1.dtypes"
   ]
  },
  {
   "cell_type": "markdown",
   "id": "ab1ca3c7-4237-429c-9603-82e6cddd6e8e",
   "metadata": {},
   "source": [
    "So we have object type that means those are in string format. As we are interested in duration of our shows with start time we will change that to `datetime` format. We will also convert start time UTC to our local time zone. I mean what will I do with UTC format. Title is okay for being string. Isn't it obious. And I am pretty sure no one has a datetime formatted name, or there is?"
   ]
  },
  {
   "cell_type": "markdown",
   "id": "9d0fcfef-4730-45de-a6a0-b437bca91d46",
   "metadata": {},
   "source": [
    ">Lets change start time to `datetime` format"
   ]
  },
  {
   "cell_type": "code",
   "execution_count": 8,
   "id": "73f401e8-a719-4e0b-ba78-fd4e288822b6",
   "metadata": {},
   "outputs": [],
   "source": [
    "df1['Start Time'] = pd.to_datetime(df1['Start Time'], utc = True)"
   ]
  },
  {
   "cell_type": "markdown",
   "id": "8ecae91a-5059-4ea3-b474-30e09f479aa0",
   "metadata": {},
   "source": [
    "Lets check that."
   ]
  },
  {
   "cell_type": "code",
   "execution_count": 9,
   "id": "a7348e64-6110-40f2-acd9-13dbca29fa90",
   "metadata": {},
   "outputs": [
    {
     "data": {
      "text/plain": [
       "Start Time    datetime64[ns, UTC]\n",
       "Duration                   object\n",
       "Title                      object\n",
       "dtype: object"
      ]
     },
     "execution_count": 9,
     "metadata": {},
     "output_type": "execute_result"
    }
   ],
   "source": [
    "df1.dtypes"
   ]
  },
  {
   "cell_type": "markdown",
   "id": "4a28d1ec-a761-4404-8202-c3465f493e4b",
   "metadata": {},
   "source": [
    "Perfect!!!"
   ]
  },
  {
   "cell_type": "markdown",
   "id": "18200643-4bba-440b-8c49-8631fcf7dace",
   "metadata": {},
   "source": [
    "Now, lets convert the time zone to our local time zone that is `Canada/Newfoundland` and to convert we will use `tz_convert()` on our *datetimeIndex*. We will use `reset_index` to turn it back into regular column. "
   ]
  },
  {
   "cell_type": "code",
   "execution_count": 10,
   "id": "33e27671-3c7a-4bf5-b3d2-3c0f218baedf",
   "metadata": {},
   "outputs": [],
   "source": [
    "df1 = df1.set_index('Start Time')\n",
    "df1.index = df1.index.tz_convert('Canada/Newfoundland')\n",
    "df1 = df1.reset_index()"
   ]
  },
  {
   "cell_type": "code",
   "execution_count": 11,
   "id": "7b99931b-2df9-4d05-8d09-0f80e4c9dabf",
   "metadata": {},
   "outputs": [
    {
     "data": {
      "text/html": [
       "<div>\n",
       "<style scoped>\n",
       "    .dataframe tbody tr th:only-of-type {\n",
       "        vertical-align: middle;\n",
       "    }\n",
       "\n",
       "    .dataframe tbody tr th {\n",
       "        vertical-align: top;\n",
       "    }\n",
       "\n",
       "    .dataframe thead th {\n",
       "        text-align: right;\n",
       "    }\n",
       "</style>\n",
       "<table border=\"1\" class=\"dataframe\">\n",
       "  <thead>\n",
       "    <tr style=\"text-align: right;\">\n",
       "      <th></th>\n",
       "      <th>Start Time</th>\n",
       "      <th>Duration</th>\n",
       "      <th>Title</th>\n",
       "    </tr>\n",
       "  </thead>\n",
       "  <tbody>\n",
       "    <tr>\n",
       "      <th>0</th>\n",
       "      <td>2021-09-09 01:36:02-02:30</td>\n",
       "      <td>00:39:59</td>\n",
       "      <td>Turning Point: 9/11 and the War on Terror: Sea...</td>\n",
       "    </tr>\n",
       "  </tbody>\n",
       "</table>\n",
       "</div>"
      ],
      "text/plain": [
       "                 Start Time  Duration  \\\n",
       "0 2021-09-09 01:36:02-02:30  00:39:59   \n",
       "\n",
       "                                               Title  \n",
       "0  Turning Point: 9/11 and the War on Terror: Sea...  "
      ]
     },
     "execution_count": 11,
     "metadata": {},
     "output_type": "execute_result"
    }
   ],
   "source": [
    "df1.head(1)"
   ]
  },
  {
   "cell_type": "markdown",
   "id": "40ec7f2d-674a-4389-a54f-bbe3663cf81b",
   "metadata": {},
   "source": [
    "It changed correctly. And we can see we are two and half hours behind UTC. Lets handle `Duration` now."
   ]
  },
  {
   "cell_type": "markdown",
   "id": "5c8ce38f-5f07-49d3-9457-f462e92dfe58",
   "metadata": {},
   "source": [
    "Duration will be `timeDelta` rather than `datetime` as it handles measire of length of time. "
   ]
  },
  {
   "cell_type": "code",
   "execution_count": 12,
   "id": "3d85d4e0-c411-45b7-947c-abf00d2f8bfe",
   "metadata": {},
   "outputs": [],
   "source": [
    "df1['Duration'] = pd.to_timedelta(df1['Duration'])"
   ]
  },
  {
   "cell_type": "code",
   "execution_count": 13,
   "id": "3f5034fc-f1fa-42b2-a273-f823d7b2a9ac",
   "metadata": {},
   "outputs": [
    {
     "data": {
      "text/plain": [
       "Start Time    datetime64[ns, Canada/Newfoundland]\n",
       "Duration                          timedelta64[ns]\n",
       "Title                                      object\n",
       "dtype: object"
      ]
     },
     "execution_count": 13,
     "metadata": {},
     "output_type": "execute_result"
    }
   ],
   "source": [
    "df1.dtypes"
   ]
  },
  {
   "cell_type": "markdown",
   "id": "a8e12088-b1bd-4fd9-9b6d-d0613fc67343",
   "metadata": {},
   "source": [
    "Looks like everything is good here. \n",
    "Now, we need to handle `Title`. We will create a seperate dataframe to view for a particular show. \n",
    "I think all of has seen \"Brooklyn Nine-Nine\" at some time. \n",
    "I will start with this title then."
   ]
  },
  {
   "cell_type": "code",
   "execution_count": 14,
   "id": "30e668b2-2694-485f-a216-79e3b09b5f90",
   "metadata": {},
   "outputs": [],
   "source": [
    "b99 = df1[df1['Title'].str.contains('Brooklyn Nine-Nine', regex=False)]"
   ]
  },
  {
   "cell_type": "markdown",
   "id": "d29995c7-ce6f-4b69-b4d1-26e7ff3b4e31",
   "metadata": {},
   "source": [
    "WOW!!! I have used a fancy statement `regex = False`. This basically means previous argument is a string not a regular function. What does it mean? Just google it. Easier!!!"
   ]
  },
  {
   "cell_type": "markdown",
   "id": "137a6c93-32eb-4c33-9e1c-072e2060b7b1",
   "metadata": {},
   "source": [
    "Lets check the new dataframe"
   ]
  },
  {
   "cell_type": "code",
   "execution_count": 15,
   "id": "70e57151-e479-4d31-97c8-b82b6244c901",
   "metadata": {},
   "outputs": [
    {
     "data": {
      "text/plain": [
       "(497, 3)"
      ]
     },
     "execution_count": 15,
     "metadata": {},
     "output_type": "execute_result"
    }
   ],
   "source": [
    "b99.shape"
   ]
  },
  {
   "cell_type": "code",
   "execution_count": 16,
   "id": "d3dbfbfc-7518-42f5-9f8c-4e1af5df059b",
   "metadata": {},
   "outputs": [
    {
     "data": {
      "text/html": [
       "<div>\n",
       "<style scoped>\n",
       "    .dataframe tbody tr th:only-of-type {\n",
       "        vertical-align: middle;\n",
       "    }\n",
       "\n",
       "    .dataframe tbody tr th {\n",
       "        vertical-align: top;\n",
       "    }\n",
       "\n",
       "    .dataframe thead th {\n",
       "        text-align: right;\n",
       "    }\n",
       "</style>\n",
       "<table border=\"1\" class=\"dataframe\">\n",
       "  <thead>\n",
       "    <tr style=\"text-align: right;\">\n",
       "      <th></th>\n",
       "      <th>Start Time</th>\n",
       "      <th>Duration</th>\n",
       "      <th>Title</th>\n",
       "    </tr>\n",
       "  </thead>\n",
       "  <tbody>\n",
       "    <tr>\n",
       "      <th>2034</th>\n",
       "      <td>2021-04-26 02:58:49-02:30</td>\n",
       "      <td>0 days 00:19:03</td>\n",
       "      <td>Brooklyn Nine-Nine: Season 7: Lights Out (Epis...</td>\n",
       "    </tr>\n",
       "  </tbody>\n",
       "</table>\n",
       "</div>"
      ],
      "text/plain": [
       "                    Start Time        Duration  \\\n",
       "2034 2021-04-26 02:58:49-02:30 0 days 00:19:03   \n",
       "\n",
       "                                                  Title  \n",
       "2034  Brooklyn Nine-Nine: Season 7: Lights Out (Epis...  "
      ]
     },
     "execution_count": 16,
     "metadata": {},
     "output_type": "execute_result"
    }
   ],
   "source": [
    "b99.head(1)"
   ]
  },
  {
   "cell_type": "markdown",
   "id": "0cf69e52-9353-4697-b8e3-26d972be80b2",
   "metadata": {},
   "source": [
    "Now, if we accidently open the show or just preview it for consideration, does that count as viewing time?. I mean these days if you don't want to see something, ads makes sure you do. We are not counting that. We will be not consider duration which is less than 1 minute. Thats a fair boundary.    "
   ]
  },
  {
   "cell_type": "code",
   "execution_count": 17,
   "id": "e9070e6a-50d5-4b9c-bf4a-fc201952a59a",
   "metadata": {},
   "outputs": [],
   "source": [
    "b99 = b99[(b99['Duration'] > '0 days 00:01:00')]"
   ]
  },
  {
   "cell_type": "code",
   "execution_count": 18,
   "id": "bf172661-fe68-4d50-aec1-d09f10cd9437",
   "metadata": {},
   "outputs": [
    {
     "data": {
      "text/plain": [
       "(422, 3)"
      ]
     },
     "execution_count": 18,
     "metadata": {},
     "output_type": "execute_result"
    }
   ],
   "source": [
    "b99.shape"
   ]
  },
  {
   "cell_type": "markdown",
   "id": "307b6b30-c8d4-4b32-b07b-7f21312ec70c",
   "metadata": {},
   "source": [
    "We can see the number of rows have decreased from 497 to 422. "
   ]
  },
  {
   "cell_type": "markdown",
   "id": "c636e19a-0347-4632-84db-08867d5f1437",
   "metadata": {},
   "source": [
    "> Lets analyze the data"
   ]
  },
  {
   "cell_type": "markdown",
   "id": "87427bbd-d9af-4ea6-9426-ff87aafc4d10",
   "metadata": {},
   "source": [
    "Lets see how much precious time of our life we have spent watching Brooklyn Nine Nine? "
   ]
  },
  {
   "cell_type": "code",
   "execution_count": 19,
   "id": "efdd013c-7f82-44ec-98d2-0a149074460a",
   "metadata": {},
   "outputs": [
    {
     "data": {
      "text/plain": [
       "Timedelta('4 days 14:50:57')"
      ]
     },
     "execution_count": 19,
     "metadata": {},
     "output_type": "execute_result"
    }
   ],
   "source": [
    "b99['Duration'].sum()"
   ]
  },
  {
   "cell_type": "markdown",
   "id": "807ed226-bb56-434c-a8cf-83ccf31387be",
   "metadata": {},
   "source": [
    "That is not a lot actually given that we are five people. I thought it will be more. Whatever the case is lets see the time we usually watched the show.  "
   ]
  },
  {
   "cell_type": "markdown",
   "id": "6f59ac67-4acc-4183-94f1-6d3d4e5dad22",
   "metadata": {},
   "source": [
    "> Now we will create three new column say `weekday`, `hour` and `minutes` using `.dt.weekday`, `.dt.hour` and `.dt.minute` method to sort out our duration of viewing for better view of our watch duration"
   ]
  },
  {
   "cell_type": "code",
   "execution_count": 20,
   "id": "a844fb52-e57e-45f5-8ecd-b83d1192a2a7",
   "metadata": {},
   "outputs": [],
   "source": [
    "b99['Weekday'] = b99['Start Time'].dt.weekday\n",
    "b99['Hour'] = b99['Start Time'].dt.hour\n",
    "b99['Minutes'] = b99['Start Time'].dt.minute"
   ]
  },
  {
   "cell_type": "code",
   "execution_count": 21,
   "id": "6e0c7bfc-e7fe-4b04-9460-6c7bdced24e9",
   "metadata": {},
   "outputs": [
    {
     "data": {
      "text/html": [
       "<div>\n",
       "<style scoped>\n",
       "    .dataframe tbody tr th:only-of-type {\n",
       "        vertical-align: middle;\n",
       "    }\n",
       "\n",
       "    .dataframe tbody tr th {\n",
       "        vertical-align: top;\n",
       "    }\n",
       "\n",
       "    .dataframe thead th {\n",
       "        text-align: right;\n",
       "    }\n",
       "</style>\n",
       "<table border=\"1\" class=\"dataframe\">\n",
       "  <thead>\n",
       "    <tr style=\"text-align: right;\">\n",
       "      <th></th>\n",
       "      <th>Start Time</th>\n",
       "      <th>Duration</th>\n",
       "      <th>Title</th>\n",
       "      <th>Weekday</th>\n",
       "      <th>Hour</th>\n",
       "      <th>Minutes</th>\n",
       "    </tr>\n",
       "  </thead>\n",
       "  <tbody>\n",
       "    <tr>\n",
       "      <th>2034</th>\n",
       "      <td>2021-04-26 02:58:49-02:30</td>\n",
       "      <td>0 days 00:19:03</td>\n",
       "      <td>Brooklyn Nine-Nine: Season 7: Lights Out (Epis...</td>\n",
       "      <td>0</td>\n",
       "      <td>2</td>\n",
       "      <td>58</td>\n",
       "    </tr>\n",
       "  </tbody>\n",
       "</table>\n",
       "</div>"
      ],
      "text/plain": [
       "                    Start Time        Duration  \\\n",
       "2034 2021-04-26 02:58:49-02:30 0 days 00:19:03   \n",
       "\n",
       "                                                  Title  Weekday  Hour  \\\n",
       "2034  Brooklyn Nine-Nine: Season 7: Lights Out (Epis...        0     2   \n",
       "\n",
       "      Minutes  \n",
       "2034       58  "
      ]
     },
     "execution_count": 21,
     "metadata": {},
     "output_type": "execute_result"
    }
   ],
   "source": [
    "b99.head(1)"
   ]
  },
  {
   "cell_type": "markdown",
   "id": "75ca8f56-8b61-4757-9de3-d0b82fa026b2",
   "metadata": {},
   "source": [
    "So we can see here of this episode or indexed show I have seen it on monday at 2am as weekday = 0 and hour = 2. I know that as I have written this but how will you know that? 0 means monday. Lets bring in the magic to make it clear: `matploib` "
   ]
  },
  {
   "cell_type": "code",
   "execution_count": 22,
   "id": "9894e554-39d3-42c5-bc38-87392734c341",
   "metadata": {},
   "outputs": [],
   "source": [
    "%matplotlib inline\n",
    "\n",
    "import matplotlib"
   ]
  },
  {
   "cell_type": "markdown",
   "id": "e48ef343-9aaf-4ffa-9e37-9bb38ea6ca30",
   "metadata": {},
   "source": [
    "lets plot a chart of our vewing habits by day of the week. \n",
    "1. we will use `pd.Categorical` to plot this in descending order.\n",
    "2. we will implement in monday to sunday order.\n",
    "3. we will count the no. of episodes viewed on each day"
   ]
  },
  {
   "cell_type": "code",
   "execution_count": 23,
   "id": "fadbbb3e-1972-4555-8330-c2e1408a607c",
   "metadata": {},
   "outputs": [],
   "source": [
    "b99['Weekday'] = pd.Categorical(b99['Weekday'], categories = [0,1,2,3,4,5,6], ordered = True)"
   ]
  },
  {
   "cell_type": "code",
   "execution_count": 24,
   "id": "27fb5657-62e0-4285-bc9c-af85bb9c0f4a",
   "metadata": {},
   "outputs": [],
   "source": [
    "b99_by_day = b99['Weekday'].value_counts()"
   ]
  },
  {
   "cell_type": "markdown",
   "id": "3ea2e725-5cbd-4739-9f8b-04c1ab763274",
   "metadata": {},
   "source": [
    "Sorting the index so that (0)monday is first to (6)sunday is last "
   ]
  },
  {
   "cell_type": "code",
   "execution_count": 25,
   "id": "a279a95b-3c38-48b5-b153-6cb895b84a4c",
   "metadata": {},
   "outputs": [],
   "source": [
    "b99_by_day = b99_by_day.sort_index()"
   ]
  },
  {
   "cell_type": "markdown",
   "id": "67e9d7b9-f977-4c92-bc30-ff9ab9613168",
   "metadata": {},
   "source": [
    "Making the font size a bit bigger"
   ]
  },
  {
   "cell_type": "code",
   "execution_count": 26,
   "id": "336c70ee-049d-47d5-bba7-e38dc37c7638",
   "metadata": {},
   "outputs": [],
   "source": [
    "matplotlib.rcParams.update({'font.size': 20})"
   ]
  },
  {
   "cell_type": "markdown",
   "id": "40a881a7-5604-4b27-85ca-4f495531e59d",
   "metadata": {},
   "source": [
    "Ploting a bar chart."
   ]
  },
  {
   "cell_type": "code",
   "execution_count": 27,
   "id": "a7ee8859-25c5-4780-9647-84019b33c12b",
   "metadata": {},
   "outputs": [
    {
     "data": {
      "image/png": "[encoded data removed]",
      "text/plain": [
       "<Figure size 1440x720 with 1 Axes>"
      ]
     },
     "metadata": {
      "needs_background": "light"
     },
     "output_type": "display_data"
    }
   ],
   "source": [
    "plot = b99_by_day.plot(kind = 'bar', figsize = (20,10), title = 'Brooklyn-99 Episodes Watched by Day',xlabel = \"Monday to Sunday\", ylabel = \"No. of Episodes\")"
   ]
  },
  {
   "cell_type": "code",
   "execution_count": 28,
   "id": "2f410eb3-f7bd-4a7c-9b35-6332504e3872",
   "metadata": {},
   "outputs": [
    {
     "data": {
      "text/plain": [
       "dtype('int64')"
      ]
     },
     "execution_count": 28,
     "metadata": {},
     "output_type": "execute_result"
    }
   ],
   "source": [
    "b99_by_day.dtype"
   ]
  },
  {
   "cell_type": "markdown",
   "id": "dff8bcbf-5fc0-491b-a777-5784f3802434",
   "metadata": {},
   "source": [
    "> So, we can see the total number episodes watched in each day through the week. Now, that is a lot of episode for a day don't you think. Lets save the figure.  "
   ]
  },
  {
   "cell_type": "code",
   "execution_count": null,
   "id": "cd1673a5-1362-4435-bed3-e21ab9ce08d6",
   "metadata": {},
   "outputs": [],
   "source": [
    "fig = plot.get_figure()"
   ]
  },
  {
   "cell_type": "code",
   "execution_count": null,
   "id": "43b7d4cc-3c2f-4524-b744-061a9575e844",
   "metadata": {},
   "outputs": [],
   "source": [
    "fig.savefig('Brooklyn99.jpg')"
   ]
  },
  {
   "cell_type": "markdown",
   "id": "dd6d6c10-0128-463e-a1bf-0e170e72a389",
   "metadata": {},
   "source": [
    "> Lets see the number of watched eposide by the hour"
   ]
  },
  {
   "cell_type": "code",
   "execution_count": 33,
   "id": "e36e5a17-34fc-4387-a3c9-c5e30f93b44c",
   "metadata": {},
   "outputs": [],
   "source": [
    "b99['Hour'] = pd.Categorical(b99['Hour'], categories=\n",
    "    [0,1,2,3,4,5,6,7,8,9,10,11,12,13,14,15,16,17,18,19,20,21,22,23],\n",
    "    ordered=True)"
   ]
  },
  {
   "cell_type": "code",
   "execution_count": 34,
   "id": "82be1883-d301-469e-aceb-e07ec45fb43b",
   "metadata": {},
   "outputs": [],
   "source": [
    "b99_by_hour = b99['Hour'].value_counts()"
   ]
  },
  {
   "cell_type": "markdown",
   "id": "e963b02a-8953-4340-8c90-e4b47be769e7",
   "metadata": {},
   "source": [
    "Lets set our hour as 0 means midnight and 12 means noon. "
   ]
  },
  {
   "cell_type": "code",
   "execution_count": 35,
   "id": "70e20d58-e4f7-439d-80df-02bdbe7947ff",
   "metadata": {},
   "outputs": [],
   "source": [
    "b99_by_hour = b99_by_hour.sort_index()"
   ]
  },
  {
   "cell_type": "code",
   "execution_count": 43,
   "id": "3c3e4ec5-7901-4413-b8dc-40056610c8a8",
   "metadata": {},
   "outputs": [
    {
     "data": {
      "image/png": "[encoded data removed]",
      "text/plain": [
       "<Figure size 1440x720 with 1 Axes>"
      ]
     },
     "metadata": {
      "needs_background": "light"
     },
     "output_type": "display_data"
    }
   ],
   "source": [
    "plot1 = b99_by_hour.plot(kind='bar', figsize=(20,10), title='Brooklyn99 Episodes Watched by Hour', xlabel = \"Hours\", ylabel = \"No. of Episodes\")"
   ]
  },
  {
   "cell_type": "markdown",
   "id": "9736f242-b082-462b-b4d9-95bc8d2be7f0",
   "metadata": {},
   "source": [
    "There we go. Lets save it then."
   ]
  },
  {
   "cell_type": "code",
   "execution_count": 44,
   "id": "1e4e7281-d351-4488-b70f-008043dab1b6",
   "metadata": {},
   "outputs": [],
   "source": [
    "fig1 = plot1.get_figure()"
   ]
  },
  {
   "cell_type": "code",
   "execution_count": 45,
   "id": "7fc8257a-e60f-4ec8-9bc3-73fc9fa9bf73",
   "metadata": {},
   "outputs": [],
   "source": [
    "fig1.savefig('Brooklyn99-HvsE.jpg')"
   ]
  },
  {
   "cell_type": "markdown",
   "id": "d4bfadd5-8e29-40f3-8b47-fff0773d179f",
   "metadata": {},
   "source": [
    "Now, we can not do everything in one notebook. Thats what my professor says and I agree. Don't want things to get messy. We will do more analysis in the next part. "
   ]
  },
  {
   "cell_type": "code",
   "execution_count": null,
   "id": "be2fee6b-7475-4274-9fde-59842fafe706",
   "metadata": {},
   "outputs": [],
   "source": []
  }
 ],
 "metadata": {
  "kernelspec": {
   "display_name": "Python 3 (ipykernel)",
   "language": "python",
   "name": "python3"
  },
  "language_info": {
   "codemirror_mode": {
    "name": "ipython",
    "version": 3
   },
   "file_extension": ".py",
   "mimetype": "text/x-python",
   "name": "python",
   "nbconvert_exporter": "python",
   "pygments_lexer": "ipython3",
   "version": "3.9.7"
  }
 },
 "nbformat": 4,
 "nbformat_minor": 5
}
